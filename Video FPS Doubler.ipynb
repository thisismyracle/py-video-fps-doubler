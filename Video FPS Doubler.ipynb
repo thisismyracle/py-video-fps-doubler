{
 "cells": [
  {
   "cell_type": "code",
   "execution_count": 1,
   "id": "905e5c0d",
   "metadata": {},
   "outputs": [],
   "source": [
    "import cv2\n",
    "import matplotlib.pyplot as plt\n",
    "import numpy as np"
   ]
  },
  {
   "cell_type": "code",
   "execution_count": 2,
   "id": "ccf288bf",
   "metadata": {},
   "outputs": [],
   "source": [
    "class Video:\n",
    "    def __init__(self, path):\n",
    "        self.capture = cv2.VideoCapture(path)\n",
    "        \n",
    "        if self.capture.isOpened():\n",
    "            self.frame_width = int(self.capture.get(3))\n",
    "            self.frame_height = int(self.capture.get(4))\n",
    "            self.frame_size = (self.frame_width, self.frame_height)\n",
    "            self.frame_per_second = self.capture.get(5)\n",
    "            self.frame_count = int(self.capture.get(7))\n",
    "            self.extract_frames()\n",
    "\n",
    "            print('The video has been loaded.')\n",
    "            self.print_info()\n",
    "        else:\n",
    "            print('Failed to load the video.')\n",
    "    \n",
    "    def print_info(self):\n",
    "        print('Frame size:', self.frame_width, 'x', self.frame_height)\n",
    "        print('FPS:', self.frame_per_second, 'fps -', 'Frame count:', self.frame_count)\n",
    "        \n",
    "    def extract_frames(self):\n",
    "        self.frames = []\n",
    "\n",
    "        while(self.capture.isOpened()):\n",
    "            retrieved, frame = self.capture.read()\n",
    "            if retrieved:\n",
    "                self.frames.append(frame)\n",
    "            else:\n",
    "                break\n",
    "                \n",
    "    def double_frames(self):\n",
    "        original_frames = self.frames.copy()\n",
    "        sampled_frames = []\n",
    "\n",
    "        for frame_id in range(self.frame_count):\n",
    "            if frame_id == (self.frame_count - 1):\n",
    "                sampled_frames.append(self.frames[frame_id])\n",
    "                print('ehe')\n",
    "            else:\n",
    "                if np.all(self.frames[frame_id] == self.frames[frame_id + 1]):\n",
    "                    sampled_frames.append(self.frames[frame_id])\n",
    "                else:\n",
    "                    sample_frame = self.get_sample_avg(self.frames[frame_id], self.frames[frame_id + 1])\n",
    "                    sampled_frames.append(sample_frame)\n",
    "        \n",
    "        self.frames = []\n",
    "        for frame_id in range(self.frame_count):\n",
    "            self.frames.append(original_frames[frame_id])\n",
    "            self.frames.append(sampled_frames[frame_id])\n",
    "        \n",
    "        self.frame_per_second *= 2\n",
    "        self.frame_count *= 2\n",
    "        print('The video frames has been doubled. After:')\n",
    "        self.print_info()\n",
    "        \n",
    "    def get_sample_avg(self, frame1, frame2):\n",
    "        sample = frame1.copy()\n",
    "\n",
    "        row_len = len(sample)\n",
    "        for row_id in range(row_len):\n",
    "            if row_id == 0:\n",
    "                col_len = len(sample[row_id])\n",
    "                for col_id in range(col_len):\n",
    "                    if col_id == 0:\n",
    "                        sample[row_id][col_id] = np.average(np.array([frame1[row_id][col_id], frame2[row_id][col_id]]), axis=0).astype(np.uint8)\n",
    "                    else:\n",
    "                        if np.all(frame1[row_id][col_id] == frame2[row_id][col_id - 1]):\n",
    "                            sample[row_id][col_id] = sample[row_id][col_id - 1]\n",
    "            else:\n",
    "                if np.all(frame1[row_id] == frame2[row_id - 1]):\n",
    "                    sample[row_id] = sample[row_id - 1]\n",
    "                \n",
    "        return sample\n",
    "    \n",
    "    def save(self, path):\n",
    "        output = cv2.VideoWriter(path, cv2.VideoWriter_fourcc(*'XVID'), self.frame_per_second, self.frame_size)\n",
    "\n",
    "        for frame in self.frames:\n",
    "            output.write(frame)\n",
    "\n",
    "        output.release()\n",
    "        print('The video has been saved.')"
   ]
  },
  {
   "cell_type": "code",
   "execution_count": 55,
   "id": "07fa786a",
   "metadata": {
    "scrolled": true
   },
   "outputs": [
    {
     "name": "stdout",
     "output_type": "stream",
     "text": [
      "The video has been loaded.\n",
      "Frame size: 1920 x 1080\n",
      "FPS: 30.0 fps - Frame count: 91\n",
      "The video has been loaded.\n",
      "Frame size: 1920 x 1080\n",
      "FPS: 30.0 fps - Frame count: 91\n",
      "ehe\n",
      "The video frames has been doubled. After:\n",
      "Frame size: 1920 x 1080\n",
      "FPS: 60.0 fps - Frame count: 182\n",
      "The video has been saved.\n"
     ]
    }
   ],
   "source": [
    "in_pathx = 'Resources/Videos/sample30fps.mp4'\n",
    "out_pathx = 'Resources/Videos/sample30fps_doubledx.mp4'\n",
    "\n",
    "vid = Video(in_pathx)\n",
    "double_vid = Video(in_pathx)\n",
    "double_vid.double_frames()\n",
    "double_vid.save(out_pathx)"
   ]
  },
  {
   "cell_type": "code",
   "execution_count": 3,
   "id": "125119be",
   "metadata": {},
   "outputs": [
    {
     "name": "stdout",
     "output_type": "stream",
     "text": [
      "The video has been loaded.\n",
      "Frame size: 596 x 336\n",
      "FPS: 30.0 fps - Frame count: 407\n",
      "ehe\n",
      "The video frames has been doubled. After:\n",
      "Frame size: 596 x 336\n",
      "FPS: 60.0 fps - Frame count: 814\n",
      "The video has been saved.\n"
     ]
    }
   ],
   "source": [
    "in_path = 'Resources/Videos/shutterstock30fps.mp4'\n",
    "out_path = 'Resources/Videos/shutterstock30fps_doubled.mp4'\n",
    "\n",
    "vid = Video(in_path)\n",
    "vid.double_frames()\n",
    "vid.save(out_path)"
   ]
  },
  {
   "cell_type": "code",
   "execution_count": 4,
   "id": "53b32261",
   "metadata": {},
   "outputs": [
    {
     "name": "stdout",
     "output_type": "stream",
     "text": [
      "The video has been loaded.\n",
      "Frame size: 1080 x 1080\n",
      "FPS: 60.0 fps - Frame count: 980\n",
      "ehe\n",
      "The video frames has been doubled. After:\n",
      "Frame size: 1080 x 1080\n",
      "FPS: 120.0 fps - Frame count: 1960\n",
      "The video has been saved.\n"
     ]
    }
   ],
   "source": [
    "in_path = 'Resources/Videos/toramtpn.mp4'\n",
    "out_path = 'Resources/Videos/toramtpn_doubled.mp4'\n",
    "\n",
    "vid = Video(in_path)\n",
    "vid.double_frames()\n",
    "vid.save(out_path)"
   ]
  },
  {
   "cell_type": "code",
   "execution_count": 5,
   "id": "4b546994",
   "metadata": {},
   "outputs": [
    {
     "name": "stdout",
     "output_type": "stream",
     "text": [
      "The video has been loaded.\n",
      "Frame size: 1920 x 1080\n",
      "FPS: 60.0 fps - Frame count: 2750\n",
      "ehe\n",
      "The video frames has been doubled. After:\n",
      "Frame size: 1920 x 1080\n",
      "FPS: 120.0 fps - Frame count: 5500\n",
      "The video has been saved.\n"
     ]
    }
   ],
   "source": [
    "in_path = 'Resources/Videos/toramgenshin.mp4'\n",
    "out_path = 'Resources/Videos/toramgenshin_doubled.mp4'\n",
    "\n",
    "vid = Video(in_path)\n",
    "vid.double_frames()\n",
    "vid.save(out_path)"
   ]
  },
  {
   "cell_type": "code",
   "execution_count": null,
   "id": "40da3ca9",
   "metadata": {},
   "outputs": [],
   "source": []
  }
 ],
 "metadata": {
  "kernelspec": {
   "display_name": "Python 3 (ipykernel)",
   "language": "python",
   "name": "python3"
  },
  "language_info": {
   "codemirror_mode": {
    "name": "ipython",
    "version": 3
   },
   "file_extension": ".py",
   "mimetype": "text/x-python",
   "name": "python",
   "nbconvert_exporter": "python",
   "pygments_lexer": "ipython3",
   "version": "3.10.3"
  }
 },
 "nbformat": 4,
 "nbformat_minor": 5
}
